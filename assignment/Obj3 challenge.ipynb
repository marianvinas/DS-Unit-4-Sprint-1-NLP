{
 "cells": [
  {
   "cell_type": "markdown",
   "metadata": {},
   "source": [
    "## Objective 03 - apply word embedding models to create document vectors"
   ]
  },
  {
   "cell_type": "markdown",
   "metadata": {},
   "source": [
    "## Challenge\n",
    "Using your own list of words, copy the above code and produce a plot. Check the similarity between words on this plot with the `token1.similarity(token2)`. Do similar words lie next to each other?"
   ]
  },
  {
   "cell_type": "code",
   "execution_count": 1,
   "metadata": {},
   "outputs": [
    {
     "name": "stdout",
     "output_type": "stream",
     "text": [
      "(300,)\n",
      "[-0.04911    -0.23685     0.10623751 -0.19662951 -0.403395    0.238247\n",
      "  0.1852     -0.28211    -0.31013     1.0560249 ]\n"
     ]
    }
   ],
   "source": [
    "# Import the library and model\n",
    "import spacy\n",
    "nlp = spacy.load('en_core_web_lg')\n",
    "\n",
    "# Set the document (this example contains two words)\n",
    "doc = nlp(\"drama llama\")\n",
    "\n",
    "# Get the vectors for document\n",
    "# (the vectors are the average of the two word vectors)\n",
    "llama_vector = doc.vector\n",
    "\n",
    "# Look length of the vector (how many dimensions?)\n",
    "print(llama_vector.shape)\n",
    "\n",
    "# Display part of the vector\n",
    "print(llama_vector[:10])"
   ]
  },
  {
   "cell_type": "code",
   "execution_count": 2,
   "metadata": {},
   "outputs": [
    {
     "name": "stdout",
     "output_type": "stream",
     "text": [
      "The similarity score for llama-llama is:  1.0\n",
      "The similarity score for llama-horse is:  0.37856930047799736\n",
      "The similarity score for llama-car is:  0.08994986314497783\n"
     ]
    }
   ],
   "source": [
    "# Find the similarity score for example words\n",
    "\n",
    "# Compare \"llama\" and \"horse\"\n",
    "print(\"The similarity score for llama-llama is: \", nlp(\"llama\").similarity(nlp(\"llama\")))\n",
    "print(\"The similarity score for llama-horse is: \", nlp(\"llama\").similarity(nlp(\"horse\")))\n",
    "print(\"The similarity score for llama-car is: \", nlp(\"llama\").similarity(nlp(\"car\")))"
   ]
  },
  {
   "cell_type": "code",
   "execution_count": 3,
   "metadata": {},
   "outputs": [
    {
     "data": {
      "text/plain": [
       "array([[ 2.87538871,  2.1924341 ],\n",
       "       [ 3.89682021, -0.73923489],\n",
       "       [ 3.69059896, -1.41344964],\n",
       "       [ 2.95501969, -1.67204314],\n",
       "       [ 3.21524274, -0.10002494],\n",
       "       [-1.79493447,  4.34816682],\n",
       "       [-2.3407361 ,  4.28495142],\n",
       "       [-1.45716462,  1.55856908],\n",
       "       [-0.84419009,  2.45805994],\n",
       "       [-3.56703596, -2.77326173],\n",
       "       [-3.87441702, -3.66247474],\n",
       "       [-1.3833254 , -2.81328086],\n",
       "       [-0.81738513, -1.28377165],\n",
       "       [-0.55388151, -0.38463977]])"
      ]
     },
     "execution_count": 3,
     "metadata": {},
     "output_type": "execute_result"
    }
   ],
   "source": [
    "# import the PCA module from sklearn\n",
    "from sklearn.decomposition import PCA\n",
    "\n",
    "# Define a function to find the vector for a word\n",
    "def get_word_vectors(words):\n",
    "    # converts a list of words into their word vectors\n",
    "    return [nlp(word).vector for word in words]\n",
    "\n",
    "# Example word list to find vectors for\n",
    "words = ['python', 'javascript', 'code', 'data', 'linux',\n",
    "        'llama', 'alpaca', 'cat', 'snake',\n",
    "        'cook', 'bake', 'cookie', 'clean', 'car']\n",
    "\n",
    "# Initialize the PCA model and project down to two dimensions\n",
    "pca = PCA(n_components=2)\n",
    "\n",
    "# Fit the PCA model on the word list\n",
    "pca.fit(get_word_vectors(words))\n",
    "\n",
    "# Apply the transformation learned from the PCA model\n",
    "word_vecs_2d = pca.transform(get_word_vectors(words))\n",
    "\n",
    "# Look at the 2-D array (which is just x and y coordinates)\n",
    "word_vecs_2d"
   ]
  },
  {
   "cell_type": "code",
   "execution_count": 4,
   "metadata": {},
   "outputs": [
    {
     "data": {
      "image/png": "[encoded data removed]",
      "text/plain": [
       "<Figure size 720x576 with 1 Axes>"
      ]
     },
     "metadata": {
      "needs_background": "light"
     },
     "output_type": "display_data"
    }
   ],
   "source": [
    "# Imports for plotting\n",
    "import matplotlib.pyplot as plt\n",
    "\n",
    "plt.figure(figsize=(10,8))\n",
    "plt.scatter(word_vecs_2d[:,0], word_vecs_2d[:,1])\n",
    "\n",
    "# Display the text of the word at each point\n",
    "for word, coord in zip(words, word_vecs_2d):\n",
    "    x, y = coord\n",
    "    plt.text(x+0.05, y, word, size= 15)\n",
    "\n",
    "# show the plot\n",
    "plt.show()"
   ]
  }
 ],
 "metadata": {
  "kernelspec": {
   "display_name": "Python 3",
   "language": "python",
   "name": "python3"
  },
  "language_info": {
   "codemirror_mode": {
    "name": "ipython",
    "version": 3
   },
   "file_extension": ".py",
   "mimetype": "text/x-python",
   "name": "python",
   "nbconvert_exporter": "python",
   "pygments_lexer": "ipython3",
   "version": "3.7.6"
  }
 },
 "nbformat": 4,
 "nbformat_minor": 4
}
