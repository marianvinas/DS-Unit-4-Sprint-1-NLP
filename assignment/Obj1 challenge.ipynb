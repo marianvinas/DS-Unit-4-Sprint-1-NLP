{
 "cells": [
  {
   "cell_type": "markdown",
   "metadata": {},
   "source": [
    "## Objective 01 - represent a document as vector\n"
   ]
  },
  {
   "cell_type": "markdown",
   "metadata": {},
   "source": [
    "### Challenge\n",
    "For this challenge, try creating your own corpus or collection of sentences. You can adjust randomly generated sentences to include words that are common to some or all of your sentences. With this corpus, create a count vector, a one-hot encoded vector, and a tf-idf vector. Do the values make sense for each document?"
   ]
  },
  {
   "cell_type": "code",
   "execution_count": 14,
   "metadata": {},
   "outputs": [],
   "source": [
    "# Create the corpus with random sentences\n",
    "\n",
    "corpus1 = [\"Two things are infinite: the universe and human stupidity; and I'm not sure about the universe.\",\n",
    "          \"Be who you are and say what you feel, because those who mind don't matter, and those who matter don't mind.\",\n",
    "          \"A room without books is like a body without a soul.\",\n",
    "          \"Be the change that you wish to see in the world.\"\n",
    "         ]"
   ]
  },
  {
   "cell_type": "code",
   "execution_count": 15,
   "metadata": {},
   "outputs": [
    {
     "name": "stdout",
     "output_type": "stream",
     "text": [
      "[[1 2 1 0 0 0 0 0 0 0 1 0 1 0 0 0 0 1 0 0 0 0 1 1 0 2 1 0 0 1 2 0 0 0 0 0\n",
      "  0]\n",
      " [0 2 1 1 1 0 0 0 2 1 0 0 0 0 0 2 2 0 0 1 0 0 0 0 0 0 0 2 0 0 0 1 3 0 0 0\n",
      "  2]\n",
      " [0 0 0 0 0 1 1 0 0 0 0 0 0 1 1 0 0 0 1 0 0 1 0 0 0 0 0 0 0 0 0 0 0 0 2 0\n",
      "  0]\n",
      " [0 0 0 1 0 0 0 1 0 0 0 1 0 0 0 0 0 0 0 0 1 0 0 0 1 2 0 0 1 0 0 0 0 1 0 1\n",
      "  1]]\n"
     ]
    }
   ],
   "source": [
    "# Frequency-count\n",
    "\n",
    "# Import the feature_extraction module and vectorizer\n",
    "from sklearn.feature_extraction.text import CountVectorizer\n",
    "\n",
    "# Instantiate the object and count the words\n",
    "vectorizer1 = CountVectorizer()\n",
    "vectors1 = vectorizer1.fit_transform(corpus1)\n",
    "\n",
    "# Convert to dense vectors (leave out the zeroes)\n",
    "print(vectors.todense())"
   ]
  },
  {
   "cell_type": "code",
   "execution_count": 16,
   "metadata": {},
   "outputs": [
    {
     "data": {
      "text/plain": [
       "array([[1, 1, 1, 0, 0, 0, 0, 0, 0, 0, 1, 0, 1, 0, 0, 0, 0, 1, 0, 0, 0, 0,\n",
       "        1, 1, 0, 1, 1, 0, 0, 1, 1, 0, 0, 0, 0, 0, 0],\n",
       "       [0, 1, 1, 1, 1, 0, 0, 0, 1, 1, 0, 0, 0, 0, 0, 1, 1, 0, 0, 1, 0, 0,\n",
       "        0, 0, 0, 0, 0, 1, 0, 0, 0, 1, 1, 0, 0, 0, 1],\n",
       "       [0, 0, 0, 0, 0, 1, 1, 0, 0, 0, 0, 0, 0, 1, 1, 0, 0, 0, 1, 0, 0, 1,\n",
       "        0, 0, 0, 0, 0, 0, 0, 0, 0, 0, 0, 0, 1, 0, 0],\n",
       "       [0, 0, 0, 1, 0, 0, 0, 1, 0, 0, 0, 1, 0, 0, 0, 0, 0, 0, 0, 0, 1, 0,\n",
       "        0, 0, 1, 1, 0, 0, 1, 0, 0, 0, 0, 1, 0, 1, 1]])"
      ]
     },
     "execution_count": 16,
     "metadata": {},
     "output_type": "execute_result"
    }
   ],
   "source": [
    "# One-hot encoding of word counts\n",
    "\n",
    "# Import the binary encoder\n",
    "from sklearn.preprocessing import Binarizer\n",
    "\n",
    "# Initialize the vectorizer and get the word counts\n",
    "freq1   = CountVectorizer()\n",
    "corpus_freq1 = freq1.fit_transform(corpus1)\n",
    "\n",
    "# Initialize the binarizer and create the binary encoded vector\n",
    "onehot1 = Binarizer()\n",
    "corpus_onehot1 = onehot1.fit_transform(corpus_freq1.toarray())\n",
    "\n",
    "# Display the one-hot encoded vector\n",
    "corpus_onehot1"
   ]
  },
  {
   "cell_type": "code",
   "execution_count": 17,
   "metadata": {},
   "outputs": [
    {
     "data": {
      "text/html": [
       "<div>\n",
       "<style scoped>\n",
       "    .dataframe tbody tr th:only-of-type {\n",
       "        vertical-align: middle;\n",
       "    }\n",
       "\n",
       "    .dataframe tbody tr th {\n",
       "        vertical-align: top;\n",
       "    }\n",
       "\n",
       "    .dataframe thead th {\n",
       "        text-align: right;\n",
       "    }\n",
       "</style>\n",
       "<table border=\"1\" class=\"dataframe\">\n",
       "  <thead>\n",
       "    <tr style=\"text-align: right;\">\n",
       "      <th></th>\n",
       "      <th>angry</th>\n",
       "      <th>cereal</th>\n",
       "      <th>chameleon</th>\n",
       "      <th>chose</th>\n",
       "      <th>color</th>\n",
       "      <th>fruit</th>\n",
       "      <th>hated</th>\n",
       "      <th>karma</th>\n",
       "      <th>killer</th>\n",
       "      <th>loops</th>\n",
       "      <th>loved</th>\n",
       "      <th>paintbrush</th>\n",
       "      <th>stomped</th>\n",
       "      <th>use</th>\n",
       "    </tr>\n",
       "  </thead>\n",
       "  <tbody>\n",
       "    <tr>\n",
       "      <th>0</th>\n",
       "      <td>0.000000</td>\n",
       "      <td>0.000000</td>\n",
       "      <td>0.126630</td>\n",
       "      <td>0.000000</td>\n",
       "      <td>0.000000</td>\n",
       "      <td>0.000000</td>\n",
       "      <td>0.00000</td>\n",
       "      <td>0.99195</td>\n",
       "      <td>0.000000</td>\n",
       "      <td>0.000000</td>\n",
       "      <td>0.000000</td>\n",
       "      <td>0.000000</td>\n",
       "      <td>0.000000</td>\n",
       "      <td>0.000000</td>\n",
       "    </tr>\n",
       "    <tr>\n",
       "      <th>1</th>\n",
       "      <td>0.430037</td>\n",
       "      <td>0.000000</td>\n",
       "      <td>0.274487</td>\n",
       "      <td>0.430037</td>\n",
       "      <td>0.430037</td>\n",
       "      <td>0.000000</td>\n",
       "      <td>0.00000</td>\n",
       "      <td>0.00000</td>\n",
       "      <td>0.000000</td>\n",
       "      <td>0.000000</td>\n",
       "      <td>0.000000</td>\n",
       "      <td>0.430037</td>\n",
       "      <td>0.000000</td>\n",
       "      <td>0.430037</td>\n",
       "    </tr>\n",
       "    <tr>\n",
       "      <th>2</th>\n",
       "      <td>0.000000</td>\n",
       "      <td>0.366739</td>\n",
       "      <td>0.000000</td>\n",
       "      <td>0.000000</td>\n",
       "      <td>0.000000</td>\n",
       "      <td>0.465162</td>\n",
       "      <td>0.00000</td>\n",
       "      <td>0.00000</td>\n",
       "      <td>0.465162</td>\n",
       "      <td>0.465162</td>\n",
       "      <td>0.000000</td>\n",
       "      <td>0.000000</td>\n",
       "      <td>0.465162</td>\n",
       "      <td>0.000000</td>\n",
       "    </tr>\n",
       "    <tr>\n",
       "      <th>3</th>\n",
       "      <td>0.000000</td>\n",
       "      <td>0.321093</td>\n",
       "      <td>0.259952</td>\n",
       "      <td>0.000000</td>\n",
       "      <td>0.000000</td>\n",
       "      <td>0.000000</td>\n",
       "      <td>0.81453</td>\n",
       "      <td>0.00000</td>\n",
       "      <td>0.000000</td>\n",
       "      <td>0.000000</td>\n",
       "      <td>0.407265</td>\n",
       "      <td>0.000000</td>\n",
       "      <td>0.000000</td>\n",
       "      <td>0.000000</td>\n",
       "    </tr>\n",
       "  </tbody>\n",
       "</table>\n",
       "</div>"
      ],
      "text/plain": [
       "      angry    cereal  chameleon     chose     color     fruit    hated  \\\n",
       "0  0.000000  0.000000   0.126630  0.000000  0.000000  0.000000  0.00000   \n",
       "1  0.430037  0.000000   0.274487  0.430037  0.430037  0.000000  0.00000   \n",
       "2  0.000000  0.366739   0.000000  0.000000  0.000000  0.465162  0.00000   \n",
       "3  0.000000  0.321093   0.259952  0.000000  0.000000  0.000000  0.81453   \n",
       "\n",
       "     karma    killer     loops     loved  paintbrush   stomped       use  \n",
       "0  0.99195  0.000000  0.000000  0.000000    0.000000  0.000000  0.000000  \n",
       "1  0.00000  0.000000  0.000000  0.000000    0.430037  0.000000  0.430037  \n",
       "2  0.00000  0.465162  0.465162  0.000000    0.000000  0.465162  0.000000  \n",
       "3  0.00000  0.000000  0.000000  0.407265    0.000000  0.000000  0.000000  "
      ]
     },
     "execution_count": 17,
     "metadata": {},
     "output_type": "execute_result"
    }
   ],
   "source": [
    "# Import libraries and modules\n",
    "import pandas as pd\n",
    "from sklearn.feature_extraction.text import TfidfVectorizer\n",
    "\n",
    "# Instantiate vectorizer object\n",
    "tfidf1 = TfidfVectorizer(stop_words='english', max_features=5000)\n",
    "\n",
    "# Create a vocabulary and get word counts per document\n",
    "dtm1 = tfidf1.fit_transform(corpus)\n",
    "\n",
    "# Get feature names to use as dataframe column headers\n",
    "dtm1 = pd.DataFrame(dtm1.todense(), columns=tfidf1.get_feature_names())\n",
    "\n",
    "# View feature matrix as DataFrame\n",
    "dtm1.head()"
   ]
  },
  {
   "cell_type": "code",
   "execution_count": null,
   "metadata": {},
   "outputs": [],
   "source": []
  }
 ],
 "metadata": {
  "kernelspec": {
   "display_name": "Python 3",
   "language": "python",
   "name": "python3"
  },
  "language_info": {
   "codemirror_mode": {
    "name": "ipython",
    "version": 3
   },
   "file_extension": ".py",
   "mimetype": "text/x-python",
   "name": "python",
   "nbconvert_exporter": "python",
   "pygments_lexer": "ipython3",
   "version": "3.7.6"
  }
 },
 "nbformat": 4,
 "nbformat_minor": 4
}
